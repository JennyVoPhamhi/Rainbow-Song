{
 "cells": [
  {
   "cell_type": "markdown",
   "metadata": {},
   "source": [
    "# Objective\n",
    "\n",
    "Find the best `cleanup_gaussian_sigma` parameter that yields blob detection count closest to ground truth count.\n",
    "\n",
    "# Dataset\n",
    "\n",
    "Image `20200901-193823-6`\n",
    "\n",
    "# Preprocessing\n",
    "\n",
    "- CCI1 package: https://drive.google.com/file/d/1m6CSpnfHtRLSL62ZmZthWU63WGqdBt9q/view?usp=sharing\n",
    "\n",
    "- normxcorr2 (from https://github.com/czbiohub/cell-counting-imager/blob/828b8af950beb32ff76548f11764c8915bb9b6d6/cell_counting_imager/normxcorr2.py)\n",
    "\n",
    "### Preprocessing Process:\n",
    "\n",
    "Get pred_count\n",
    "- Feed in full-size FG and BG images\n",
    "- Apply Greg’s CCI 1 preprocessing code to the FG image\n",
    "- Apply normalized cross-correlation to the FG image\n",
    "- Crop the preprocessed FG image\n",
    "- blob_dog counting on the preprocessed, cropped FG image\n",
    "\n",
    "Get gt_count\n",
    "- Shift/scale the GT annotations\n",
    "- Use the mask to throw out GT annotations in invalid areas\n",
    "- Count the GT annotations in valid areas\n",
    "\n",
    "# Results\n",
    "\n",
    "Setting `cleanup_gaussian_sigma` = {np.arange(0, 1.1, 0.1), [1.0, 2.0, 3.0, 4.0, 5.0, 6.0]} yield the exact same blob detection counts/results."
   ]
  },
  {
   "cell_type": "code",
   "execution_count": 5,
   "metadata": {},
   "outputs": [],
   "source": [
    "import matplotlib.pyplot as plt\n",
    "import pandas as pd\n",
    "import numpy as np\n",
    "from datetime import datetime\n",
    "from normxcorr2 import normxcorr2\n",
    "from skimage.feature import blob_dog\n",
    "from skimage.io import imread\n",
    "from skimage import exposure, transform\n",
    "from scipy.stats import linregress\n",
    "from matplotlib.lines import Line2D\n",
    "import warnings, math\n",
    "warnings.filterwarnings('ignore')"
   ]
  },
  {
   "cell_type": "code",
   "execution_count": 6,
   "metadata": {},
   "outputs": [],
   "source": [
    "import cci_image_processing\n",
    "from skimage.io import imread"
   ]
  },
  {
   "cell_type": "code",
   "execution_count": 7,
   "metadata": {},
   "outputs": [],
   "source": [
    "# using default kernel params\n",
    "kernelSize = 150\n",
    "ds = 2 # down-sampling integer factor along each axis\n",
    "discRadius = 3\n",
    "\n",
    "# set up kernel\n",
    "kernel = np.zeros((kernelSize, kernelSize), 'uint16')\n",
    "kernelCtr = kernelSize/2\n",
    "for rr in range(0, kernelSize + 1):\n",
    "    for cc in range(0, kernelSize + 1):\n",
    "        if  math.sqrt((rr - kernelCtr)**2 + (cc - kernelCtr)**2) < discRadius:\n",
    "            kernel[rr, cc] = 65535\n",
    "kernel = transform.downscale_local_mean(kernel, (ds,ds))\n",
    "\n",
    "def cross_correlate(im):\n",
    "    im_normxcorr2 = normxcorr2(kernel, im)\n",
    "    lr_edge = (im_normxcorr2.shape[0] - im.shape[0])/2\n",
    "    ud_edge = (im_normxcorr2.shape[1] - im.shape[1])/2\n",
    "    return im_normxcorr2[int(ud_edge):int(ud_edge*-1), int(ud_edge):int(ud_edge*-1)]"
   ]
  },
  {
   "cell_type": "code",
   "execution_count": 8,
   "metadata": {},
   "outputs": [],
   "source": [
    "bubble_image_names = [\n",
    "    '20200901-193536-2',\n",
    "    '20200916-192532-4',\n",
    "    '20201002-131101-4'\n",
    "]\n",
    "bubble_image_names_test = [\n",
    "    '20201217-142717-5',\n",
    "    '20201217-142717-2',\n",
    "    '20201217-142717-0',\n",
    "    '20201216-163816-1',\n",
    "    '20201216-141203-7',\n",
    "    '20201216-135719-5',\n",
    "    '20201216-135719-2'\n",
    "]"
   ]
  },
  {
   "cell_type": "markdown",
   "metadata": {},
   "source": [
    "# Test Run"
   ]
  },
  {
   "cell_type": "code",
   "execution_count": 12,
   "metadata": {
    "scrolled": false
   },
   "outputs": [],
   "source": [
    "def test_cgs(cgs_list):\n",
    "    gt_list, pred_list = [], []\n",
    "    for cgs in cgs_list:\n",
    "\n",
    "        print('cgs = %s' % cgs)\n",
    "\n",
    "        # Greg's demo settings\n",
    "        pp = cci_image_processing.Cci1ImagePreprocessing(\n",
    "            input_rescale_factor =   0.5,\n",
    "            input_gaussian_sigma =   1.0, # used to be 2.0\n",
    "            align_bg_pixel_thresh =  0.25,\n",
    "            align_bg_row_thresh =    0.35,\n",
    "            align_mask_margin =      0.01,\n",
    "            align_cutout_height =    0.75,\n",
    "            align_oversub_factor =   1.05,\n",
    "            cleanup_wall_margin =    0.05,\n",
    "            cleanup_bg_brt_thresh =  0.25,\n",
    "            cleanup_bg_grow_factor = 1.0e-2,\n",
    "            cleanup_fg_brt_thresh =  0.05,\n",
    "            cleanup_fg_grow_factor = 1.0e-2,\n",
    "            cleanup_fg_grow_cycles = 4,\n",
    "            cleanup_fg_size_thresh = 3.0e-4,\n",
    "            cleanup_gaussian_sigma = cgs,\n",
    "        )\n",
    "\n",
    "        BG_IMAGE_PATH = 'all_bg/background-%s.tif' % name\n",
    "        ycrop = int((2048-948)/2)\n",
    "        xcrop = int((2448-1948)/2)\n",
    "        bg_img = imread(BG_IMAGE_PATH)\n",
    "        info = pp.set_bg_image(bg_img)\n",
    "        FG_IMAGE_PATH = 'raw_images/image-%s.tif' % name\n",
    "        fg_cleaned, valid_area, info = pp.process_fg_image_from_path(FG_IMAGE_PATH)\n",
    "        fg_cleaned_xcorr = cross_correlate(fg_cleaned)\n",
    "\n",
    "#         plt.figure(figsize=(8.,8.))\n",
    "#         plt.imshow(fg_cleaned_xcorr)\n",
    "#         plt.title(\"Input Image Cleaned Using Greg's Code, then Cross Correlated\\ncleanup_gaussian_sigma = %f\" % cgs)\n",
    "#         plt.show()\n",
    "\n",
    "        ## Crop the processed FG image.\n",
    "\n",
    "        ycrop = int((2048-948)/4)\n",
    "        xcrop = int((2448-1948)/4)\n",
    "        fg_cleaned_xcorr_cropped = fg_cleaned_xcorr[ycrop:-1*ycrop,xcrop:-1*xcrop]\n",
    "        \n",
    "        ## Count blobs\n",
    "\n",
    "        blobs = blob_dog(fg_cleaned_xcorr_cropped, min_sigma=5, max_sigma=15, threshold=0.008)\n",
    "        pred_count = len(blobs)\n",
    "        pred_list.append(pred_count)\n",
    "\n",
    "        # Get gt_count\n",
    "\n",
    "        df = pd.read_csv('./all_test_gt_complete/image-cropped-rescaled-%s.csv' % name)\n",
    "        df['X_scaled'] = round(df['X']*(1/2)+xcrop)\n",
    "        df['Y_scaled'] = round(df['Y']*(1/2)+ycrop)\n",
    "\n",
    "        ## Applying feature mask to remove unwanted GT\n",
    "        mask = info['feature_mask_raw']\n",
    "        df['valid'] = [0]*len(df)\n",
    "        df['color'] = ['']*len(df)\n",
    "        for ind in df.index:\n",
    "            x = int(df['X_scaled'][ind])\n",
    "            y = int(df['Y_scaled'][ind])\n",
    "            valid = int(mask[y][x])\n",
    "            df['valid'][ind] = valid\n",
    "            if valid:\n",
    "                color = 'xkcd:yellow'\n",
    "            else:\n",
    "                color = 'xkcd:magenta'\n",
    "            df['color'][ind] = color\n",
    "\n",
    "        gt_count = len(df[df.valid==1])\n",
    "        gt_list.append(gt_count)\n",
    "        \n",
    "    return pred_list, gt_list"
   ]
  },
  {
   "cell_type": "code",
   "execution_count": 13,
   "metadata": {},
   "outputs": [],
   "source": [
    "name = '20200901-193823-6'"
   ]
  },
  {
   "cell_type": "code",
   "execution_count": 17,
   "metadata": {},
   "outputs": [
    {
     "name": "stdout",
     "output_type": "stream",
     "text": [
      "cgs = 0.0\n",
      "cgs = 0.05\n",
      "cgs = 1.0\n",
      "cgs = 2.0\n",
      "cgs = 3.0\n",
      "cgs = 4.0\n",
      "cgs = 5.0\n",
      "cgs = 6.0\n"
     ]
    }
   ],
   "source": [
    "cgs_list = [0.0, 0.05, 1.0, 2.0, 3.0, 4.0, 5.0, 6.0]\n",
    "pred_list, gt_list = test_cgs(cgs_list)"
   ]
  },
  {
   "cell_type": "code",
   "execution_count": 21,
   "metadata": {},
   "outputs": [
    {
     "name": "stdout",
     "output_type": "stream",
     "text": [
      "ground truth count: 455\n",
      "predicted counts: [405, 405, 405, 405, 405, 405, 405, 405, 405, 405, 405]\n"
     ]
    }
   ],
   "source": [
    "print('ground truth count:', gt_list[0])\n",
    "print('predicted counts:', pred_list)"
   ]
  },
  {
   "cell_type": "code",
   "execution_count": 19,
   "metadata": {
    "scrolled": false
   },
   "outputs": [
    {
     "name": "stdout",
     "output_type": "stream",
     "text": [
      "cgs = 0.0\n",
      "cgs = 0.1\n",
      "cgs = 0.2\n",
      "cgs = 0.30000000000000004\n",
      "cgs = 0.4\n",
      "cgs = 0.5\n",
      "cgs = 0.6000000000000001\n",
      "cgs = 0.7000000000000001\n",
      "cgs = 0.8\n",
      "cgs = 0.9\n",
      "cgs = 1.0\n"
     ]
    }
   ],
   "source": [
    "cgs_list = np.arange(0, 1.1, 0.1)\n",
    "pred_list, gt_list = test_cgs(cgs_list)"
   ]
  },
  {
   "cell_type": "code",
   "execution_count": 22,
   "metadata": {},
   "outputs": [
    {
     "name": "stdout",
     "output_type": "stream",
     "text": [
      "ground truth count: 455\n",
      "predicted counts: [405, 405, 405, 405, 405, 405, 405, 405, 405, 405, 405]\n"
     ]
    }
   ],
   "source": [
    "print('ground truth count:', gt_list[0])\n",
    "print('predicted counts:', pred_list)"
   ]
  },
  {
   "cell_type": "code",
   "execution_count": null,
   "metadata": {},
   "outputs": [],
   "source": []
  }
 ],
 "metadata": {
  "kernelspec": {
   "display_name": "Python 3",
   "language": "python",
   "name": "python3"
  },
  "language_info": {
   "codemirror_mode": {
    "name": "ipython",
    "version": 3
   },
   "file_extension": ".py",
   "mimetype": "text/x-python",
   "name": "python",
   "nbconvert_exporter": "python",
   "pygments_lexer": "ipython3",
   "version": "3.8.5"
  }
 },
 "nbformat": 4,
 "nbformat_minor": 4
}
